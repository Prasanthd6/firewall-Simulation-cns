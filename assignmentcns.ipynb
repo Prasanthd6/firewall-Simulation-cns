{
  "nbformat": 4,
  "nbformat_minor": 0,
  "metadata": {
    "colab": {
      "provenance": []
    },
    "kernelspec": {
      "name": "python3",
      "display_name": "Python 3"
    },
    "language_info": {
      "name": "python"
    }
  },
  "cells": [
    {
      "cell_type": "code",
      "source": [
        "!pip install scapy\n"
      ],
      "metadata": {
        "colab": {
          "base_uri": "https://localhost:8080/"
        },
        "id": "WT4SybgsKh9C",
        "outputId": "9135bc70-b17b-4403-ca88-bc813985a218"
      },
      "execution_count": 2,
      "outputs": [
        {
          "output_type": "stream",
          "name": "stdout",
          "text": [
            "Collecting scapy\n",
            "  Downloading scapy-2.6.1-py3-none-any.whl.metadata (5.6 kB)\n",
            "Downloading scapy-2.6.1-py3-none-any.whl (2.4 MB)\n",
            "\u001b[2K   \u001b[90m━━━━━━━━━━━━━━━━━━━━━━━━━━━━━━━━━━━━━━━━\u001b[0m \u001b[32m2.4/2.4 MB\u001b[0m \u001b[31m23.9 MB/s\u001b[0m eta \u001b[36m0:00:00\u001b[0m\n",
            "\u001b[?25hInstalling collected packages: scapy\n",
            "Successfully installed scapy-2.6.1\n"
          ]
        }
      ]
    },
    {
      "cell_type": "code",
      "execution_count": 3,
      "metadata": {
        "colab": {
          "base_uri": "https://localhost:8080/"
        },
        "id": "IUMzAMFKNvJp",
        "outputId": "e9abe29d-588d-461e-8f1f-eac01fcb155a"
      },
      "outputs": [
        {
          "output_type": "stream",
          "name": "stdout",
          "text": [
            "🚀 Firewall is active. Monitoring network traffic...\n",
            "❌ Blocked packet from 172.28.0.1 to 172.28.0.12:6000 (Unauthorized Port)\n",
            "❌ Blocked packet from 172.28.0.12 to 172.28.0.1:45600 (Unauthorized Port)\n",
            "❌ Blocked packet from 172.28.0.1 to 172.28.0.12:6000 (Unauthorized Port)\n",
            "❌ Blocked packet from 172.28.0.12 to 172.28.0.1:45600 (Unauthorized Port)\n",
            "❌ Blocked packet from 172.28.0.1 to 172.28.0.12:6000 (Unauthorized Port)\n",
            "❌ Blocked packet from 172.28.0.1 to 172.28.0.12:8080 (Unauthorized Port)\n",
            "❌ Blocked packet from 172.28.0.12 to 172.28.0.1:36962 (Unauthorized Port)\n",
            "❌ Blocked packet from 172.28.0.1 to 172.28.0.12:8080 (Unauthorized Port)\n",
            "❌ Blocked packet from 172.28.0.1 to 172.28.0.12:8080 (Unauthorized Port)\n",
            "❌ Blocked packet from 172.28.0.12 to 172.28.0.1:36962 (Unauthorized Port)\n"
          ]
        },
        {
          "output_type": "execute_result",
          "data": {
            "text/plain": [
              "<Sniffed: TCP:0 UDP:0 ICMP:0 Other:0>"
            ]
          },
          "metadata": {},
          "execution_count": 3
        }
      ],
      "source": [
        "from scapy.all import sniff, IP, TCP, UDP\n",
        "\n",
        "# Define firewall rules\n",
        "BLOCKED_IPS = [\"192.168.1.100\", \"10.0.0.5\"]  # Example blocked IPs\n",
        "ALLOWED_PORTS = [80, 443, 22]  # HTTP, HTTPS, SSH\n",
        "BLOCKED_KEYWORDS = [\"malware\", \"hacked\", \"attack\"]\n",
        "\n",
        "def packet_callback(packet):\n",
        "    if IP in packet:\n",
        "        ip_layer = packet[IP]\n",
        "        src_ip = ip_layer.src\n",
        "        dst_ip = ip_layer.dst\n",
        "\n",
        "        # Check if source or destination IP is blocked\n",
        "        if src_ip in BLOCKED_IPS or dst_ip in BLOCKED_IPS:\n",
        "            print(f\"❌ Blocked packet from {src_ip} to {dst_ip} (Blocked IP)\")\n",
        "            return  # Drop packet\n",
        "\n",
        "        # Check for allowed ports (TCP/UDP)\n",
        "        if TCP in packet or UDP in packet:\n",
        "            port_layer = packet[TCP] if TCP in packet else packet[UDP]\n",
        "            if port_layer.dport not in ALLOWED_PORTS:\n",
        "                print(f\"❌ Blocked packet from {src_ip} to {dst_ip}:{port_layer.dport} (Unauthorized Port)\")\n",
        "                return  # Drop packet\n",
        "        if packet.haslayer(TCP) and hasattr(packet[TCP], 'payload'):\n",
        "            payload = str(packet[TCP].payload)\n",
        "            if any(keyword in payload for keyword in BLOCKED_KEYWORDS):\n",
        "                print(f\"⚠️ Alert: Malicious content detected in packet from {src_ip} to {dst_ip}\")\n",
        "                return  # Drop packet\n",
        "\n",
        "\n",
        "        print(f\"✅ Allowed packet from {src_ip} to {dst_ip}\")\n",
        "\n",
        "# Start sniffing packets (Runs indefinitely)\n",
        "print(\"🚀 Firewall is active. Monitoring network traffic...\")\n",
        "sniff(prn=packet_callback, store=False, count=10)  # Capture 10 packets for testing\n"
      ]
    },
    {
      "cell_type": "code",
      "source": [],
      "metadata": {
        "id": "s8EnigRXNy8j"
      },
      "execution_count": null,
      "outputs": []
    }
  ]
}